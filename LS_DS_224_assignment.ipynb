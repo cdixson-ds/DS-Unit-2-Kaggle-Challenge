{
  "nbformat": 4,
  "nbformat_minor": 0,
  "metadata": {
    "kernelspec": {
      "display_name": "Python 3",
      "language": "python",
      "name": "python3"
    },
    "language_info": {
      "codemirror_mode": {
        "name": "ipython",
        "version": 3
      },
      "file_extension": ".py",
      "mimetype": "text/x-python",
      "name": "python",
      "nbconvert_exporter": "python",
      "pygments_lexer": "ipython3",
      "version": "3.7.3"
    },
    "colab": {
      "name": "LS_DS_224_assignment.ipynb",
      "provenance": [],
      "include_colab_link": true
    },
    "widgets": {
      "application/vnd.jupyter.widget-state+json": {
        "22dc8444e9ac4325b437c9ef3e797bd5": {
          "model_module": "@jupyter-widgets/controls",
          "model_name": "VBoxModel",
          "state": {
            "_view_name": "VBoxView",
            "_dom_classes": [
              "widget-interact"
            ],
            "_model_name": "VBoxModel",
            "_view_module": "@jupyter-widgets/controls",
            "_model_module_version": "1.5.0",
            "_view_count": null,
            "_view_module_version": "1.5.0",
            "box_style": "",
            "layout": "IPY_MODEL_a51af8836bcf41cb818c6ddb6b892f78",
            "_model_module": "@jupyter-widgets/controls",
            "children": [
              "IPY_MODEL_6c5d549548f84c66902be1598baf1a9a",
              "IPY_MODEL_d221dfeb3d744b34966dbfab3f615259"
            ]
          }
        },
        "a51af8836bcf41cb818c6ddb6b892f78": {
          "model_module": "@jupyter-widgets/base",
          "model_name": "LayoutModel",
          "state": {
            "_view_name": "LayoutView",
            "grid_template_rows": null,
            "right": null,
            "justify_content": null,
            "_view_module": "@jupyter-widgets/base",
            "overflow": null,
            "_model_module_version": "1.2.0",
            "_view_count": null,
            "flex_flow": null,
            "width": null,
            "min_width": null,
            "border": null,
            "align_items": null,
            "bottom": null,
            "_model_module": "@jupyter-widgets/base",
            "top": null,
            "grid_column": null,
            "overflow_y": null,
            "overflow_x": null,
            "grid_auto_flow": null,
            "grid_area": null,
            "grid_template_columns": null,
            "flex": null,
            "_model_name": "LayoutModel",
            "justify_items": null,
            "grid_row": null,
            "max_height": null,
            "align_content": null,
            "visibility": null,
            "align_self": null,
            "height": null,
            "min_height": null,
            "padding": null,
            "grid_auto_rows": null,
            "grid_gap": null,
            "max_width": null,
            "order": null,
            "_view_module_version": "1.2.0",
            "grid_template_areas": null,
            "object_position": null,
            "object_fit": null,
            "grid_auto_columns": null,
            "margin": null,
            "display": null,
            "left": null
          }
        },
        "6c5d549548f84c66902be1598baf1a9a": {
          "model_module": "@jupyter-widgets/controls",
          "model_name": "FloatSliderModel",
          "state": {
            "_view_name": "FloatSliderView",
            "style": "IPY_MODEL_af00f227da7641b9a0385799c11d2167",
            "_dom_classes": [],
            "description": "threshold",
            "step": 0.02,
            "_model_name": "FloatSliderModel",
            "orientation": "horizontal",
            "max": 1,
            "_view_module": "@jupyter-widgets/controls",
            "_model_module_version": "1.5.0",
            "value": 0.5,
            "_view_count": null,
            "disabled": false,
            "_view_module_version": "1.5.0",
            "min": 0,
            "continuous_update": true,
            "readout_format": ".2f",
            "description_tooltip": null,
            "readout": true,
            "_model_module": "@jupyter-widgets/controls",
            "layout": "IPY_MODEL_3a416be270b6412e81a231b13a796cd0"
          }
        },
        "d221dfeb3d744b34966dbfab3f615259": {
          "model_module": "@jupyter-widgets/output",
          "model_name": "OutputModel",
          "state": {
            "_view_name": "OutputView",
            "msg_id": "",
            "_dom_classes": [],
            "_model_name": "OutputModel",
            "outputs": [
              {
                "output_type": "display_data",
                "metadata": {
                  "tags": []
                },
                "image/png": "iVBORw0KGgoAAAANSUhEUgAAAXgAAAD4CAYAAADmWv3KAAAABHNCSVQICAgIfAhkiAAAAAlwSFlz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\n9f8B/O0VLmP7pIkAAAAASUVORK5CYII=\n",
                "text/plain": "<Figure size 432x288 with 1 Axes>"
              },
              {
                "output_type": "stream",
                "metadata": {
                  "tags": []
                },
                "text": "              precision    recall  f1-score   support\n\n       False       0.82      0.87      0.84      7798\n        True       0.84      0.77      0.80      6560\n\n    accuracy                           0.83     14358\n   macro avg       0.83      0.82      0.82     14358\nweighted avg       0.83      0.83      0.82     14358\n\n",
                "stream": "stdout"
              },
              {
                "output_type": "display_data",
                "metadata": {
                  "tags": []
                },
                "image/png": "iVBORw0KGgoAAAANSUhEUgAAAWYAAAD4CAYAAADfPUyRAAAABHNCSVQICAgIfAhkiAAAAAlwSFlz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\n0tKoAAAAAElFTkSuQmCC\n",
                "text/plain": "<Figure size 432x288 with 2 Axes>"
              }
            ],
            "_view_module": "@jupyter-widgets/output",
            "_model_module_version": "1.0.0",
            "_view_count": null,
            "_view_module_version": "1.0.0",
            "layout": "IPY_MODEL_45b62173803a4e6eb86e1c2f17b4ad4d",
            "_model_module": "@jupyter-widgets/output"
          }
        },
        "af00f227da7641b9a0385799c11d2167": {
          "model_module": "@jupyter-widgets/controls",
          "model_name": "SliderStyleModel",
          "state": {
            "_view_name": "StyleView",
            "handle_color": null,
            "_model_name": "SliderStyleModel",
            "description_width": "",
            "_view_module": "@jupyter-widgets/base",
            "_model_module_version": "1.5.0",
            "_view_count": null,
            "_view_module_version": "1.2.0",
            "_model_module": "@jupyter-widgets/controls"
          }
        },
        "3a416be270b6412e81a231b13a796cd0": {
          "model_module": "@jupyter-widgets/base",
          "model_name": "LayoutModel",
          "state": {
            "_view_name": "LayoutView",
            "grid_template_rows": null,
            "right": null,
            "justify_content": null,
            "_view_module": "@jupyter-widgets/base",
            "overflow": null,
            "_model_module_version": "1.2.0",
            "_view_count": null,
            "flex_flow": null,
            "width": null,
            "min_width": null,
            "border": null,
            "align_items": null,
            "bottom": null,
            "_model_module": "@jupyter-widgets/base",
            "top": null,
            "grid_column": null,
            "overflow_y": null,
            "overflow_x": null,
            "grid_auto_flow": null,
            "grid_area": null,
            "grid_template_columns": null,
            "flex": null,
            "_model_name": "LayoutModel",
            "justify_items": null,
            "grid_row": null,
            "max_height": null,
            "align_content": null,
            "visibility": null,
            "align_self": null,
            "height": null,
            "min_height": null,
            "padding": null,
            "grid_auto_rows": null,
            "grid_gap": null,
            "max_width": null,
            "order": null,
            "_view_module_version": "1.2.0",
            "grid_template_areas": null,
            "object_position": null,
            "object_fit": null,
            "grid_auto_columns": null,
            "margin": null,
            "display": null,
            "left": null
          }
        }
      }
    }
  },
  "cells": [
    {
      "cell_type": "markdown",
      "metadata": {
        "id": "view-in-github",
        "colab_type": "text"
      },
      "source": [
        "<a href=\"https://colab.research.google.com/github/cdixson-ds/DS-Unit-2-Kaggle-Challenge/blob/master/LS_DS_224_assignment.ipynb\" target=\"_parent\"><img src=\"https://colab.research.google.com/assets/colab-badge.svg\" alt=\"Open In Colab\"/></a>"
      ]
    },
    {
      "cell_type": "markdown",
      "metadata": {
        "id": "iop_qZitWODq",
        "colab_type": "text"
      },
      "source": [
        "Lambda School Data Science\n",
        "\n",
        "*Unit 2, Sprint 2, Module 4*\n",
        "\n",
        "---"
      ]
    },
    {
      "cell_type": "markdown",
      "metadata": {
        "colab_type": "text",
        "id": "nCc3XZEyG3XV"
      },
      "source": [
        "# Classification Metrics\n",
        "\n",
        "## Assignment\n",
        "- [ ] If you haven't yet, [review requirements for your portfolio project](https://lambdaschool.github.io/ds/unit2), then submit your dataset.\n",
        "- [ ] Plot a confusion matrix for your Tanzania Waterpumps model.\n",
        "- [ ] Continue to participate in our Kaggle challenge. Every student should have made at least one submission that scores at least 70% accuracy (well above the majority class baseline).\n",
        "- [ ] Submit your final predictions to our Kaggle competition. Optionally, go to **My Submissions**, and _\"you may select up to 1 submission to be used to count towards your final leaderboard score.\"_\n",
        "- [ ] Commit your notebook to your fork of the GitHub repo.\n",
        "- [ ] Read [Maximizing Scarce Maintenance Resources with Data: Applying predictive modeling, precision at k, and clustering to optimize impact](https://towardsdatascience.com/maximizing-scarce-maintenance-resources-with-data-8f3491133050), by Lambda DS3 student Michael Brady. His blog post extends the Tanzania Waterpumps scenario, far beyond what's in the lecture notebook.\n",
        "\n",
        "\n",
        "## Stretch Goals\n",
        "\n",
        "### Reading\n",
        "- [Attacking discrimination with smarter machine learning](https://research.google.com/bigpicture/attacking-discrimination-in-ml/), by Google Research, with  interactive visualizations. _\"A threshold classifier essentially makes a yes/no decision, putting things in one category or another. We look at how these classifiers work, ways they can potentially be unfair, and how you might turn an unfair classifier into a fairer one. As an illustrative example, we focus on loan granting scenarios where a bank may grant or deny a loan based on a single, automatically computed number such as a credit score.\"_\n",
        "- [Notebook about how to calculate expected value from a confusion matrix by treating it as a cost-benefit matrix](https://github.com/podopie/DAT18NYC/blob/master/classes/13-expected_value_cost_benefit_analysis.ipynb)\n",
        "- [Simple guide to confusion matrix terminology](https://www.dataschool.io/simple-guide-to-confusion-matrix-terminology/) by Kevin Markham, with video\n",
        "- [Visualizing Machine Learning Thresholds to Make Better Business Decisions](https://blog.insightdatascience.com/visualizing-machine-learning-thresholds-to-make-better-business-decisions-4ab07f823415)\n",
        "\n",
        "\n",
        "### Doing\n",
        "- [ ] Share visualizations in our Slack channel!\n",
        "- [ ] RandomizedSearchCV / GridSearchCV, for model selection. (See module 3 assignment notebook)\n",
        "- [ ] More Categorical Encoding. (See module 2 assignment notebook)\n",
        "- [ ] Stacking Ensemble. (See below)\n",
        "\n",
        "### Stacking Ensemble\n",
        "\n",
        "Here's some code you can use to \"stack\" multiple submissions, which is another form of ensembling:\n",
        "\n",
        "```python\n",
        "import pandas as pd\n",
        "\n",
        "# Filenames of your submissions you want to ensemble\n",
        "files = ['submission-01.csv', 'submission-02.csv', 'submission-03.csv']\n",
        "\n",
        "target = 'status_group'\n",
        "submissions = (pd.read_csv(file)[[target]] for file in files)\n",
        "ensemble = pd.concat(submissions, axis='columns')\n",
        "majority_vote = ensemble.mode(axis='columns')[0]\n",
        "\n",
        "sample_submission = pd.read_csv('sample_submission.csv')\n",
        "submission = sample_submission.copy()\n",
        "submission[target] = majority_vote\n",
        "submission.to_csv('my-ultimate-ensemble-submission.csv', index=False)\n",
        "```"
      ]
    },
    {
      "cell_type": "code",
      "metadata": {
        "colab_type": "code",
        "id": "lsbRiKBoB5RE",
        "colab": {}
      },
      "source": [
        "%%capture\n",
        "import sys\n",
        "\n",
        "# If you're on Colab:\n",
        "if 'google.colab' in sys.modules:\n",
        "    DATA_PATH = 'https://raw.githubusercontent.com/LambdaSchool/DS-Unit-2-Kaggle-Challenge/master/data/'\n",
        "    !pip install category_encoders==2.*\n",
        "\n",
        "# If you're working locally:\n",
        "else:\n",
        "    DATA_PATH = '../data/'"
      ],
      "execution_count": 0,
      "outputs": []
    },
    {
      "cell_type": "code",
      "metadata": {
        "colab_type": "code",
        "id": "BVA1lph8CcNX",
        "colab": {}
      },
      "source": [
        "import pandas as pd\n",
        "\n",
        "# Merge train_features.csv & train_labels.csv\n",
        "train = pd.merge(pd.read_csv(DATA_PATH+'waterpumps/train_features.csv'), \n",
        "                 pd.read_csv(DATA_PATH+'waterpumps/train_labels.csv'))\n",
        "\n",
        "# Read test_features.csv & sample_submission.csv\n",
        "test = pd.read_csv(DATA_PATH+'waterpumps/test_features.csv')\n",
        "sample_submission = pd.read_csv(DATA_PATH+'waterpumps/sample_submission.csv')"
      ],
      "execution_count": 0,
      "outputs": []
    },
    {
      "cell_type": "code",
      "metadata": {
        "id": "F2g3aeI2WOEa",
        "colab_type": "code",
        "outputId": "ad81f574-e543-4084-9c2b-7a35d6ef4d1b",
        "colab": {
          "base_uri": "https://localhost:8080/",
          "height": 34
        }
      },
      "source": [
        "%matplotlib inline\n",
        "import category_encoders as ce\n",
        "import matplotlib.pyplot as plt\n",
        "import numpy as np\n",
        "import pandas as pd\n",
        "import seaborn as sns\n",
        "from sklearn.impute import SimpleImputer\n",
        "from sklearn.metrics import accuracy_score\n",
        "from sklearn.model_selection import train_test_split\n",
        "from sklearn.pipeline import make_pipeline\n",
        "from sklearn.ensemble import RandomForestClassifier\n",
        "\n",
        "def wrangle(X):\n",
        "    \"\"\"Wrangles train, validate, and test sets in the same way\"\"\"\n",
        "    X = X.copy()\n",
        "\n",
        "    # Convert date_recorded to datetime\n",
        "    X['date_recorded'] = pd.to_datetime(X['date_recorded'], infer_datetime_format=True)\n",
        "    \n",
        "    # Extract components from date_recorded, then drop the original column\n",
        "    X['year_recorded'] = X['date_recorded'].dt.year\n",
        "    X['month_recorded'] = X['date_recorded'].dt.month\n",
        "    X['day_recorded'] = X['date_recorded'].dt.day\n",
        "    X = X.drop(columns='date_recorded')\n",
        "    \n",
        "    # Engineer feature: how many years from construction_year to date_recorded\n",
        "    X['years'] = X['year_recorded'] - X['construction_year']    \n",
        "    \n",
        "    # Drop recorded_by (never varies) and id (always varies, random)\n",
        "    unusable_variance = ['recorded_by', 'id']\n",
        "    X = X.drop(columns=unusable_variance)\n",
        "    \n",
        "    # Drop duplicate columns\n",
        "    duplicate_columns = ['quantity_group']\n",
        "    X = X.drop(columns=duplicate_columns)\n",
        "    \n",
        "    # About 3% of the time, latitude has small values near zero,\n",
        "    # outside Tanzania, so we'll treat these like null values\n",
        "    X['latitude'] = X['latitude'].replace(-2e-08, np.nan)\n",
        "    \n",
        "    # When columns have zeros and shouldn't, they are like null values\n",
        "    cols_with_zeros = ['construction_year', 'longitude', 'latitude', 'gps_height', 'population']\n",
        "    for col in cols_with_zeros:\n",
        "        X[col] = X[col].replace(0, np.nan)\n",
        "        \n",
        "    return X\n",
        "\n",
        "\n",
        "# Merge train_features.csv & train_labels.csv\n",
        "train = pd.merge(pd.read_csv(DATA_PATH+'waterpumps/train_features.csv'), \n",
        "                 pd.read_csv(DATA_PATH+'waterpumps/train_labels.csv'))\n",
        "\n",
        "# Read test_features.csv & sample_submission.csv\n",
        "test = pd.read_csv(DATA_PATH+'waterpumps/test_features.csv')\n",
        "sample_submission = pd.read_csv(DATA_PATH+'waterpumps/sample_submission.csv')\n",
        "\n",
        "# Split train into train & val. Make val the same size as test.\n",
        "target = 'status_group'\n",
        "train, val = train_test_split(train, test_size=len(test),  \n",
        "                              stratify=train[target], random_state=42)\n",
        "\n",
        "# Wrangle train, validate, and test sets in the same way\n",
        "train = wrangle(train)\n",
        "val = wrangle(val)\n",
        "test = wrangle(test)\n",
        "\n",
        "# Arrange data into X features matrix and y target vector\n",
        "X_train = train.drop(columns=target)\n",
        "y_train = train[target]\n",
        "X_val = val.drop(columns=target)\n",
        "y_val = val[target]\n",
        "X_test = test\n",
        "\n",
        "# Make pipeline!\n",
        "pipeline = make_pipeline(\n",
        "    ce.OrdinalEncoder(), \n",
        "    SimpleImputer(strategy='mean'), \n",
        "    RandomForestClassifier(n_estimators=100, random_state=42, n_jobs=-1)\n",
        ")\n",
        "\n",
        "# Fit on train, score on val\n",
        "pipeline.fit(X_train, y_train)\n",
        "y_pred = pipeline.predict(X_val)\n",
        "print('Validation Accuracy', accuracy_score(y_val, y_pred))"
      ],
      "execution_count": 0,
      "outputs": [
        {
          "output_type": "stream",
          "text": [
            "Validation Accuracy 0.8140409527789386\n"
          ],
          "name": "stdout"
        }
      ]
    },
    {
      "cell_type": "markdown",
      "metadata": {
        "id": "R5YCq7ZvUuev",
        "colab_type": "text"
      },
      "source": [
        "Confusion Matrix"
      ]
    },
    {
      "cell_type": "code",
      "metadata": {
        "id": "XVJV4DjYUcv5",
        "colab_type": "code",
        "outputId": "96c77709-99b2-4719-ebb6-7f312ba8e0a4",
        "colab": {
          "base_uri": "https://localhost:8080/",
          "height": 34
        }
      },
      "source": [
        "# Check scikit-learn version\n",
        "import sklearn\n",
        "sklearn.__version__"
      ],
      "execution_count": 0,
      "outputs": [
        {
          "output_type": "execute_result",
          "data": {
            "text/plain": [
              "'0.22.1'"
            ]
          },
          "metadata": {
            "tags": []
          },
          "execution_count": 44
        }
      ]
    },
    {
      "cell_type": "code",
      "metadata": {
        "id": "3eoA4GYqUgUC",
        "colab_type": "code",
        "colab": {}
      },
      "source": [
        "from sklearn.metrics import plot_confusion_matrix"
      ],
      "execution_count": 0,
      "outputs": []
    },
    {
      "cell_type": "code",
      "metadata": {
        "id": "JDcpikc9Ujnk",
        "colab_type": "code",
        "outputId": "5a2b9754-bed4-4609-8650-c3ba88d58bad",
        "colab": {
          "base_uri": "https://localhost:8080/",
          "height": 389
        }
      },
      "source": [
        "plot_confusion_matrix(pipeline, X_val, y_val, values_format='.0f', xticks_rotation='vertical');"
      ],
      "execution_count": 0,
      "outputs": [
        {
          "output_type": "display_data",
          "data": {
            "image/png": "[encoded data removed]",
            "text/plain": [
              "<Figure size 432x288 with 2 Axes>"
            ]
          },
          "metadata": {
            "tags": []
          }
        }
      ]
    },
    {
      "cell_type": "code",
      "metadata": {
        "id": "PUXZjMTjUnYW",
        "colab_type": "code",
        "outputId": "d962df68-540e-42bb-8df6-0d2e7b105f65",
        "colab": {
          "base_uri": "https://localhost:8080/",
          "height": 34
        }
      },
      "source": [
        "#How many correct predictions were made?\n",
        "\n",
        "correct_predictions = 7005 + 332 + 4351\n",
        "correct_predictions"
      ],
      "execution_count": 0,
      "outputs": [
        {
          "output_type": "execute_result",
          "data": {
            "text/plain": [
              "11688"
            ]
          },
          "metadata": {
            "tags": []
          },
          "execution_count": 47
        }
      ]
    },
    {
      "cell_type": "code",
      "metadata": {
        "id": "D1YJHbnXUqlT",
        "colab_type": "code",
        "outputId": "8a1313ae-f06f-418d-fb16-11af62dcd6a4",
        "colab": {
          "base_uri": "https://localhost:8080/",
          "height": 34
        }
      },
      "source": [
        "#How many total predictions were made?\n",
        "\n",
        "total_predictions = 7005 + 171 + 622 + 555 + 332 + 156 + 1098 + 68 + 4351\n",
        "total_predictions"
      ],
      "execution_count": 0,
      "outputs": [
        {
          "output_type": "execute_result",
          "data": {
            "text/plain": [
              "14358"
            ]
          },
          "metadata": {
            "tags": []
          },
          "execution_count": 48
        }
      ]
    },
    {
      "cell_type": "code",
      "metadata": {
        "id": "LjmIa6y4VAvS",
        "colab_type": "code",
        "outputId": "e4bb8464-4276-4f04-d313-113a188417c7",
        "colab": {
          "base_uri": "https://localhost:8080/",
          "height": 34
        }
      },
      "source": [
        "#What was the classification accuracy?\n",
        "\n",
        "correct_predictions / total_predictions"
      ],
      "execution_count": 0,
      "outputs": [
        {
          "output_type": "execute_result",
          "data": {
            "text/plain": [
              "0.8140409527789386"
            ]
          },
          "metadata": {
            "tags": []
          },
          "execution_count": 49
        }
      ]
    },
    {
      "cell_type": "code",
      "metadata": {
        "id": "4lKM1DEYVppG",
        "colab_type": "code",
        "outputId": "2162d292-abfc-4d9b-9c3d-f2a5f641654e",
        "colab": {
          "base_uri": "https://localhost:8080/",
          "height": 34
        }
      },
      "source": [
        "accuracy_score(y_val, y_pred)"
      ],
      "execution_count": 0,
      "outputs": [
        {
          "output_type": "execute_result",
          "data": {
            "text/plain": [
              "0.8140409527789386"
            ]
          },
          "metadata": {
            "tags": []
          },
          "execution_count": 50
        }
      ]
    },
    {
      "cell_type": "code",
      "metadata": {
        "id": "zmpWIwVbd0-B",
        "colab_type": "code",
        "colab": {}
      },
      "source": [
        "submission = sample_submission.copy()\n",
        "submission['status_group'] = y_pred\n",
        "submission.to_csv('cdixson_conf.csv', index=False)"
      ],
      "execution_count": 0,
      "outputs": []
    },
    {
      "cell_type": "code",
      "metadata": {
        "id": "jj_59gyqeubv",
        "colab_type": "code",
        "colab": {}
      },
      "source": [
        ""
      ],
      "execution_count": 0,
      "outputs": []
    },
    {
      "cell_type": "code",
      "metadata": {
        "id": "nWr1-h2ZVsKs",
        "colab_type": "code",
        "outputId": "b510ca30-2cb3-4f05-f5e6-f129844aba9d",
        "colab": {
          "base_uri": "https://localhost:8080/",
          "height": 34
        }
      },
      "source": [
        "sum(y_pred == y_val) / len(y_pred)"
      ],
      "execution_count": 0,
      "outputs": [
        {
          "output_type": "execute_result",
          "data": {
            "text/plain": [
              "0.8140409527789386"
            ]
          },
          "metadata": {
            "tags": []
          },
          "execution_count": 14
        }
      ]
    },
    {
      "cell_type": "markdown",
      "metadata": {
        "id": "BBgVIJhVXFPF",
        "colab_type": "text"
      },
      "source": [
        "Use Classification metrics: precision, recall"
      ]
    },
    {
      "cell_type": "code",
      "metadata": {
        "id": "p5ZNJUGcX0QA",
        "colab_type": "code",
        "outputId": "86d2ea18-da1d-4ded-e773-2a39d0ef392f",
        "colab": {
          "base_uri": "https://localhost:8080/",
          "height": 187
        }
      },
      "source": [
        "from sklearn.metrics import classification_report\n",
        "print(classification_report(y_val, y_pred))"
      ],
      "execution_count": 0,
      "outputs": [
        {
          "output_type": "stream",
          "text": [
            "                         precision    recall  f1-score   support\n",
            "\n",
            "             functional       0.81      0.90      0.85      7798\n",
            "functional needs repair       0.58      0.32      0.41      1043\n",
            "         non functional       0.85      0.79      0.82      5517\n",
            "\n",
            "               accuracy                           0.81     14358\n",
            "              macro avg       0.75      0.67      0.69     14358\n",
            "           weighted avg       0.81      0.81      0.81     14358\n",
            "\n"
          ],
          "name": "stdout"
        }
      ]
    },
    {
      "cell_type": "code",
      "metadata": {
        "id": "93SezSDqYDi7",
        "colab_type": "code",
        "outputId": "d49e1b1f-f3c1-475e-a989-00913824511f",
        "colab": {
          "base_uri": "https://localhost:8080/",
          "height": 68
        }
      },
      "source": [
        "#define target by which waterpumps are non-functional or are functional but need repair\n",
        "\n",
        "y_train = y_train != 'functional'\n",
        "y_val = y_val != 'functional'\n",
        "y_train.value_counts(normalize=True)"
      ],
      "execution_count": 0,
      "outputs": [
        {
          "output_type": "execute_result",
          "data": {
            "text/plain": [
              "False    0.543071\n",
              "True     0.456929\n",
              "Name: status_group, dtype: float64"
            ]
          },
          "metadata": {
            "tags": []
          },
          "execution_count": 16
        }
      ]
    },
    {
      "cell_type": "code",
      "metadata": {
        "id": "mwgMNY43YW-C",
        "colab_type": "code",
        "colab": {}
      },
      "source": [
        "#re-fit model using redefined target\n",
        "\n",
        "pipeline.fit(X_train, y_train)\n",
        "y_pred = pipeline.predict(X_val)"
      ],
      "execution_count": 0,
      "outputs": []
    },
    {
      "cell_type": "code",
      "metadata": {
        "id": "egzgyJVvYeh0",
        "colab_type": "code",
        "outputId": "6a6e34fa-1568-492d-d69e-902dc974a705",
        "colab": {
          "base_uri": "https://localhost:8080/",
          "height": 295
        }
      },
      "source": [
        "#Look at confusion matrix\n",
        "#5008 are non functional and in need of repair\n",
        "\n",
        "plot_confusion_matrix(pipeline, X_val, y_val, values_format='.0f', xticks_rotation='vertical');"
      ],
      "execution_count": 0,
      "outputs": [
        {
          "output_type": "display_data",
          "data": {
            "image/png": "[encoded data removed]",
            "text/plain": [
              "<Figure size 432x288 with 2 Axes>"
            ]
          },
          "metadata": {
            "tags": []
          }
        }
      ]
    },
    {
      "cell_type": "code",
      "metadata": {
        "id": "mAz9Y0PcYuKS",
        "colab_type": "code",
        "outputId": "8389071b-950b-4e8e-d767-74978b3b4277",
        "colab": {
          "base_uri": "https://localhost:8080/",
          "height": 34
        }
      },
      "source": [
        "#Get predicted probabilities and plot the distribution\n",
        "\n",
        "pipeline.predict(X_val)"
      ],
      "execution_count": 0,
      "outputs": [
        {
          "output_type": "execute_result",
          "data": {
            "text/plain": [
              "array([ True,  True, False, ..., False,  True, False])"
            ]
          },
          "metadata": {
            "tags": []
          },
          "execution_count": 19
        }
      ]
    },
    {
      "cell_type": "code",
      "metadata": {
        "id": "tihOgLKWY31q",
        "colab_type": "code",
        "outputId": "66767f8a-8f3c-4fff-f974-de6cba1a4c70",
        "colab": {
          "base_uri": "https://localhost:8080/",
          "height": 136
        }
      },
      "source": [
        "#predicted probabilites with look like this:\n",
        "\n",
        "pipeline.predict_proba(X_val)"
      ],
      "execution_count": 0,
      "outputs": [
        {
          "output_type": "execute_result",
          "data": {
            "text/plain": [
              "array([[0.  , 1.  ],\n",
              "       [0.26, 0.74],\n",
              "       [0.9 , 0.1 ],\n",
              "       ...,\n",
              "       [0.91, 0.09],\n",
              "       [0.41, 0.59],\n",
              "       [0.98, 0.02]])"
            ]
          },
          "metadata": {
            "tags": []
          },
          "execution_count": 20
        }
      ]
    },
    {
      "cell_type": "code",
      "metadata": {
        "id": "jFzUDtoWY-3Z",
        "colab_type": "code",
        "outputId": "c6e67425-f2ae-4520-92d7-e7aaf08b610d",
        "colab": {
          "base_uri": "https://localhost:8080/",
          "height": 34
        }
      },
      "source": [
        "#Precicted probabilites for the positive class\n",
        "pipeline.predict_proba(X_val)[:, 1]"
      ],
      "execution_count": 0,
      "outputs": [
        {
          "output_type": "execute_result",
          "data": {
            "text/plain": [
              "array([1.  , 0.74, 0.1 , ..., 0.09, 0.59, 0.02])"
            ]
          },
          "metadata": {
            "tags": []
          },
          "execution_count": 21
        }
      ]
    },
    {
      "cell_type": "code",
      "metadata": {
        "id": "wGMKWXM7ZVMO",
        "colab_type": "code",
        "outputId": "048c9286-bff4-4057-a3dd-c948e982e630",
        "colab": {
          "base_uri": "https://localhost:8080/",
          "height": 34
        }
      },
      "source": [
        "# Make predicted probabilities into discrete predictions, \n",
        "# using a \"threshold\"\n",
        "threshold = 0.50\n",
        "pipeline.predict_proba(X_val)[:, 1] > threshold"
      ],
      "execution_count": 0,
      "outputs": [
        {
          "output_type": "execute_result",
          "data": {
            "text/plain": [
              "array([ True,  True, False, ..., False,  True, False])"
            ]
          },
          "metadata": {
            "tags": []
          },
          "execution_count": 22
        }
      ]
    },
    {
      "cell_type": "code",
      "metadata": {
        "id": "rj8j9I7iZYOi",
        "colab_type": "code",
        "outputId": "2a375a93-a99f-4e69-e6c5-f541735b6679",
        "colab": {
          "base_uri": "https://localhost:8080/",
          "height": 265
        }
      },
      "source": [
        "import seaborn as sns\n",
        "\n",
        "y_pred_proba = pipeline.predict_proba(X_val)[:, 1]\n",
        "sns.distplot(y_pred_proba);"
      ],
      "execution_count": 0,
      "outputs": [
        {
          "output_type": "display_data",
          "data": {
            "image/png": "[encoded data removed]",
            "text/plain": [
              "<Figure size 432x288 with 1 Axes>"
            ]
          },
          "metadata": {
            "tags": []
          }
        }
      ]
    },
    {
      "cell_type": "code",
      "metadata": {
        "id": "70nnG5jGZaqa",
        "colab_type": "code",
        "colab": {}
      },
      "source": [
        "#Change threshold\n",
        "\n",
        "y_pred_proba = pipeline.predict_proba(X_val)[:, 1]"
      ],
      "execution_count": 0,
      "outputs": []
    },
    {
      "cell_type": "code",
      "metadata": {
        "id": "KnvDvQcFZf4w",
        "colab_type": "code",
        "outputId": "68eecb62-2bb4-4b49-b5fa-26a558fe5f45",
        "colab": {
          "base_uri": "https://localhost:8080/",
          "height": 316
        }
      },
      "source": [
        "threshold = 0.92\n",
        "\n",
        "y_pred = y_pred_proba > threshold\n",
        "\n",
        "ax = sns.distplot(y_pred_proba)\n",
        "ax.axvline(threshold, color='red')\n",
        "\n",
        "pd.Series(y_pred).value_counts()"
      ],
      "execution_count": 0,
      "outputs": [
        {
          "output_type": "execute_result",
          "data": {
            "text/plain": [
              "False    12325\n",
              "True      2033\n",
              "dtype: int64"
            ]
          },
          "metadata": {
            "tags": []
          },
          "execution_count": 25
        },
        {
          "output_type": "display_data",
          "data": {
            "image/png": "[encoded data removed]",
            "text/plain": [
              "<Figure size 432x288 with 1 Axes>"
            ]
          },
          "metadata": {
            "tags": []
          }
        }
      ]
    },
    {
      "cell_type": "code",
      "metadata": {
        "id": "_VIW5LdIZk2q",
        "colab_type": "code",
        "outputId": "5f0a3152-13b6-49c7-c39c-aba9b4ec3558",
        "colab": {
          "base_uri": "https://localhost:8080/",
          "height": 698,
          "referenced_widgets": [
            "22dc8444e9ac4325b437c9ef3e797bd5",
            "a51af8836bcf41cb818c6ddb6b892f78",
            "6c5d549548f84c66902be1598baf1a9a",
            "d221dfeb3d744b34966dbfab3f615259",
            "af00f227da7641b9a0385799c11d2167",
            "3a416be270b6412e81a231b13a796cd0"
          ]
        }
      },
      "source": [
        "from ipywidgets import interact, fixed\n",
        "import seaborn as sns\n",
        "from sklearn.metrics import confusion_matrix\n",
        "from sklearn.utils.multiclass import unique_labels\n",
        "\n",
        "def my_confusion_matrix(y_true, y_pred):\n",
        "    labels = unique_labels(y_true)\n",
        "    columns = [f'Predicted {label}' for label in labels]\n",
        "    index = [f'Actual {label}' for label in labels]\n",
        "    table = pd.DataFrame(confusion_matrix(y_true, y_pred), \n",
        "                         columns=columns, index=index)\n",
        "    return sns.heatmap(table, annot=True, fmt='d', cmap='viridis')\n",
        "\n",
        "def set_threshold(y_true, y_pred_proba, threshold=0.5):\n",
        "    y_pred = y_pred_proba > threshold\n",
        "    ax = sns.distplot(y_pred_proba)\n",
        "    ax.axvline(threshold, color='red')\n",
        "    plt.show()\n",
        "    print(classification_report(y_true, y_pred))\n",
        "    my_confusion_matrix(y_true, y_pred)\n",
        "\n",
        "interact(set_threshold, \n",
        "         y_true=fixed(y_val), \n",
        "         y_pred_proba=fixed(y_pred_proba), \n",
        "         threshold=(0, 1, 0.02));"
      ],
      "execution_count": 0,
      "outputs": [
        {
          "output_type": "display_data",
          "data": {
            "application/vnd.jupyter.widget-view+json": {
              "model_id": "22dc8444e9ac4325b437c9ef3e797bd5",
              "version_minor": 0,
              "version_major": 2
            },
            "text/plain": [
              "interactive(children=(FloatSlider(value=0.5, description='threshold', max=1.0, step=0.02), Output()), _dom_cla…"
            ]
          },
          "metadata": {
            "tags": []
          }
        }
      ]
    },
    {
      "cell_type": "code",
      "metadata": {
        "id": "ACJLtEPfZuE-",
        "colab_type": "code",
        "outputId": "36a29843-afe1-485d-f1be-31c5ed203669",
        "colab": {
          "base_uri": "https://localhost:8080/",
          "height": 419
        }
      },
      "source": [
        "#Or get exactly 2,000 positive predictions\n",
        "\n",
        "results = pd.DataFrame({'y_val': y_val, 'y_pred_proba': y_pred_proba})\n",
        "results"
      ],
      "execution_count": 0,
      "outputs": [
        {
          "output_type": "execute_result",
          "data": {
            "text/html": [
              "<div>\n",
              "<style scoped>\n",
              "    .dataframe tbody tr th:only-of-type {\n",
              "        vertical-align: middle;\n",
              "    }\n",
              "\n",
              "    .dataframe tbody tr th {\n",
              "        vertical-align: top;\n",
              "    }\n",
              "\n",
              "    .dataframe thead th {\n",
              "        text-align: right;\n",
              "    }\n",
              "</style>\n",
              "<table border=\"1\" class=\"dataframe\">\n",
              "  <thead>\n",
              "    <tr style=\"text-align: right;\">\n",
              "      <th></th>\n",
              "      <th>y_val</th>\n",
              "      <th>y_pred_proba</th>\n",
              "    </tr>\n",
              "  </thead>\n",
              "  <tbody>\n",
              "    <tr>\n",
              "      <th>58046</th>\n",
              "      <td>True</td>\n",
              "      <td>1.00</td>\n",
              "    </tr>\n",
              "    <tr>\n",
              "      <th>41184</th>\n",
              "      <td>True</td>\n",
              "      <td>0.74</td>\n",
              "    </tr>\n",
              "    <tr>\n",
              "      <th>27587</th>\n",
              "      <td>False</td>\n",
              "      <td>0.10</td>\n",
              "    </tr>\n",
              "    <tr>\n",
              "      <th>53109</th>\n",
              "      <td>False</td>\n",
              "      <td>0.05</td>\n",
              "    </tr>\n",
              "    <tr>\n",
              "      <th>7245</th>\n",
              "      <td>True</td>\n",
              "      <td>0.55</td>\n",
              "    </tr>\n",
              "    <tr>\n",
              "      <th>...</th>\n",
              "      <td>...</td>\n",
              "      <td>...</td>\n",
              "    </tr>\n",
              "    <tr>\n",
              "      <th>18760</th>\n",
              "      <td>False</td>\n",
              "      <td>0.68</td>\n",
              "    </tr>\n",
              "    <tr>\n",
              "      <th>36059</th>\n",
              "      <td>True</td>\n",
              "      <td>0.88</td>\n",
              "    </tr>\n",
              "    <tr>\n",
              "      <th>4759</th>\n",
              "      <td>False</td>\n",
              "      <td>0.09</td>\n",
              "    </tr>\n",
              "    <tr>\n",
              "      <th>43621</th>\n",
              "      <td>False</td>\n",
              "      <td>0.59</td>\n",
              "    </tr>\n",
              "    <tr>\n",
              "      <th>45295</th>\n",
              "      <td>False</td>\n",
              "      <td>0.02</td>\n",
              "    </tr>\n",
              "  </tbody>\n",
              "</table>\n",
              "<p>14358 rows × 2 columns</p>\n",
              "</div>"
            ],
            "text/plain": [
              "       y_val  y_pred_proba\n",
              "58046   True          1.00\n",
              "41184   True          0.74\n",
              "27587  False          0.10\n",
              "53109  False          0.05\n",
              "7245    True          0.55\n",
              "...      ...           ...\n",
              "18760  False          0.68\n",
              "36059   True          0.88\n",
              "4759   False          0.09\n",
              "43621  False          0.59\n",
              "45295  False          0.02\n",
              "\n",
              "[14358 rows x 2 columns]"
            ]
          },
          "metadata": {
            "tags": []
          },
          "execution_count": 27
        }
      ]
    },
    {
      "cell_type": "code",
      "metadata": {
        "id": "tHHIDioVZ1G8",
        "colab_type": "code",
        "colab": {}
      },
      "source": [
        "top2000 = results.sort_values(by='y_pred_proba', ascending=False)[:2000]"
      ],
      "execution_count": 0,
      "outputs": []
    },
    {
      "cell_type": "code",
      "metadata": {
        "id": "qWkpSNIIZ4fi",
        "colab_type": "code",
        "outputId": "a385ef6c-8bd8-49ec-89af-2ce07d52e395",
        "colab": {
          "base_uri": "https://localhost:8080/",
          "height": 1000
        }
      },
      "source": [
        "top2000.sample(n=50)"
      ],
      "execution_count": 0,
      "outputs": [
        {
          "output_type": "execute_result",
          "data": {
            "text/html": [
              "<div>\n",
              "<style scoped>\n",
              "    .dataframe tbody tr th:only-of-type {\n",
              "        vertical-align: middle;\n",
              "    }\n",
              "\n",
              "    .dataframe tbody tr th {\n",
              "        vertical-align: top;\n",
              "    }\n",
              "\n",
              "    .dataframe thead th {\n",
              "        text-align: right;\n",
              "    }\n",
              "</style>\n",
              "<table border=\"1\" class=\"dataframe\">\n",
              "  <thead>\n",
              "    <tr style=\"text-align: right;\">\n",
              "      <th></th>\n",
              "      <th>y_val</th>\n",
              "      <th>y_pred_proba</th>\n",
              "    </tr>\n",
              "  </thead>\n",
              "  <tbody>\n",
              "    <tr>\n",
              "      <th>51011</th>\n",
              "      <td>True</td>\n",
              "      <td>0.94</td>\n",
              "    </tr>\n",
              "    <tr>\n",
              "      <th>41757</th>\n",
              "      <td>True</td>\n",
              "      <td>0.98</td>\n",
              "    </tr>\n",
              "    <tr>\n",
              "      <th>10076</th>\n",
              "      <td>True</td>\n",
              "      <td>1.00</td>\n",
              "    </tr>\n",
              "    <tr>\n",
              "      <th>10055</th>\n",
              "      <td>True</td>\n",
              "      <td>0.99</td>\n",
              "    </tr>\n",
              "    <tr>\n",
              "      <th>13390</th>\n",
              "      <td>True</td>\n",
              "      <td>0.97</td>\n",
              "    </tr>\n",
              "    <tr>\n",
              "      <th>440</th>\n",
              "      <td>True</td>\n",
              "      <td>0.99</td>\n",
              "    </tr>\n",
              "    <tr>\n",
              "      <th>33006</th>\n",
              "      <td>True</td>\n",
              "      <td>0.94</td>\n",
              "    </tr>\n",
              "    <tr>\n",
              "      <th>23029</th>\n",
              "      <td>True</td>\n",
              "      <td>0.94</td>\n",
              "    </tr>\n",
              "    <tr>\n",
              "      <th>46701</th>\n",
              "      <td>True</td>\n",
              "      <td>0.94</td>\n",
              "    </tr>\n",
              "    <tr>\n",
              "      <th>37326</th>\n",
              "      <td>True</td>\n",
              "      <td>0.99</td>\n",
              "    </tr>\n",
              "    <tr>\n",
              "      <th>44636</th>\n",
              "      <td>False</td>\n",
              "      <td>0.98</td>\n",
              "    </tr>\n",
              "    <tr>\n",
              "      <th>29620</th>\n",
              "      <td>True</td>\n",
              "      <td>0.93</td>\n",
              "    </tr>\n",
              "    <tr>\n",
              "      <th>1129</th>\n",
              "      <td>True</td>\n",
              "      <td>0.99</td>\n",
              "    </tr>\n",
              "    <tr>\n",
              "      <th>10684</th>\n",
              "      <td>True</td>\n",
              "      <td>0.98</td>\n",
              "    </tr>\n",
              "    <tr>\n",
              "      <th>43423</th>\n",
              "      <td>False</td>\n",
              "      <td>0.97</td>\n",
              "    </tr>\n",
              "    <tr>\n",
              "      <th>33176</th>\n",
              "      <td>True</td>\n",
              "      <td>1.00</td>\n",
              "    </tr>\n",
              "    <tr>\n",
              "      <th>21471</th>\n",
              "      <td>True</td>\n",
              "      <td>0.99</td>\n",
              "    </tr>\n",
              "    <tr>\n",
              "      <th>33788</th>\n",
              "      <td>True</td>\n",
              "      <td>0.95</td>\n",
              "    </tr>\n",
              "    <tr>\n",
              "      <th>50889</th>\n",
              "      <td>True</td>\n",
              "      <td>0.96</td>\n",
              "    </tr>\n",
              "    <tr>\n",
              "      <th>23263</th>\n",
              "      <td>True</td>\n",
              "      <td>0.95</td>\n",
              "    </tr>\n",
              "    <tr>\n",
              "      <th>30204</th>\n",
              "      <td>True</td>\n",
              "      <td>0.96</td>\n",
              "    </tr>\n",
              "    <tr>\n",
              "      <th>46895</th>\n",
              "      <td>True</td>\n",
              "      <td>0.96</td>\n",
              "    </tr>\n",
              "    <tr>\n",
              "      <th>29718</th>\n",
              "      <td>True</td>\n",
              "      <td>0.96</td>\n",
              "    </tr>\n",
              "    <tr>\n",
              "      <th>43740</th>\n",
              "      <td>True</td>\n",
              "      <td>1.00</td>\n",
              "    </tr>\n",
              "    <tr>\n",
              "      <th>29131</th>\n",
              "      <td>True</td>\n",
              "      <td>0.99</td>\n",
              "    </tr>\n",
              "    <tr>\n",
              "      <th>2837</th>\n",
              "      <td>True</td>\n",
              "      <td>0.96</td>\n",
              "    </tr>\n",
              "    <tr>\n",
              "      <th>51177</th>\n",
              "      <td>True</td>\n",
              "      <td>0.94</td>\n",
              "    </tr>\n",
              "    <tr>\n",
              "      <th>25623</th>\n",
              "      <td>True</td>\n",
              "      <td>0.97</td>\n",
              "    </tr>\n",
              "    <tr>\n",
              "      <th>47174</th>\n",
              "      <td>True</td>\n",
              "      <td>0.99</td>\n",
              "    </tr>\n",
              "    <tr>\n",
              "      <th>45316</th>\n",
              "      <td>True</td>\n",
              "      <td>0.99</td>\n",
              "    </tr>\n",
              "    <tr>\n",
              "      <th>10284</th>\n",
              "      <td>True</td>\n",
              "      <td>0.94</td>\n",
              "    </tr>\n",
              "    <tr>\n",
              "      <th>2767</th>\n",
              "      <td>True</td>\n",
              "      <td>0.95</td>\n",
              "    </tr>\n",
              "    <tr>\n",
              "      <th>13781</th>\n",
              "      <td>True</td>\n",
              "      <td>0.98</td>\n",
              "    </tr>\n",
              "    <tr>\n",
              "      <th>25527</th>\n",
              "      <td>True</td>\n",
              "      <td>0.97</td>\n",
              "    </tr>\n",
              "    <tr>\n",
              "      <th>12017</th>\n",
              "      <td>True</td>\n",
              "      <td>1.00</td>\n",
              "    </tr>\n",
              "    <tr>\n",
              "      <th>1010</th>\n",
              "      <td>False</td>\n",
              "      <td>0.95</td>\n",
              "    </tr>\n",
              "    <tr>\n",
              "      <th>17812</th>\n",
              "      <td>True</td>\n",
              "      <td>0.99</td>\n",
              "    </tr>\n",
              "    <tr>\n",
              "      <th>55665</th>\n",
              "      <td>True</td>\n",
              "      <td>0.97</td>\n",
              "    </tr>\n",
              "    <tr>\n",
              "      <th>55825</th>\n",
              "      <td>True</td>\n",
              "      <td>0.97</td>\n",
              "    </tr>\n",
              "    <tr>\n",
              "      <th>13835</th>\n",
              "      <td>True</td>\n",
              "      <td>0.96</td>\n",
              "    </tr>\n",
              "    <tr>\n",
              "      <th>5235</th>\n",
              "      <td>True</td>\n",
              "      <td>0.97</td>\n",
              "    </tr>\n",
              "    <tr>\n",
              "      <th>54041</th>\n",
              "      <td>True</td>\n",
              "      <td>0.99</td>\n",
              "    </tr>\n",
              "    <tr>\n",
              "      <th>57153</th>\n",
              "      <td>True</td>\n",
              "      <td>1.00</td>\n",
              "    </tr>\n",
              "    <tr>\n",
              "      <th>15872</th>\n",
              "      <td>True</td>\n",
              "      <td>0.93</td>\n",
              "    </tr>\n",
              "    <tr>\n",
              "      <th>19532</th>\n",
              "      <td>True</td>\n",
              "      <td>0.99</td>\n",
              "    </tr>\n",
              "    <tr>\n",
              "      <th>59269</th>\n",
              "      <td>True</td>\n",
              "      <td>1.00</td>\n",
              "    </tr>\n",
              "    <tr>\n",
              "      <th>33598</th>\n",
              "      <td>True</td>\n",
              "      <td>0.94</td>\n",
              "    </tr>\n",
              "    <tr>\n",
              "      <th>9891</th>\n",
              "      <td>False</td>\n",
              "      <td>0.95</td>\n",
              "    </tr>\n",
              "    <tr>\n",
              "      <th>49586</th>\n",
              "      <td>True</td>\n",
              "      <td>0.99</td>\n",
              "    </tr>\n",
              "    <tr>\n",
              "      <th>10266</th>\n",
              "      <td>True</td>\n",
              "      <td>0.99</td>\n",
              "    </tr>\n",
              "  </tbody>\n",
              "</table>\n",
              "</div>"
            ],
            "text/plain": [
              "       y_val  y_pred_proba\n",
              "51011   True          0.94\n",
              "41757   True          0.98\n",
              "10076   True          1.00\n",
              "10055   True          0.99\n",
              "13390   True          0.97\n",
              "440     True          0.99\n",
              "33006   True          0.94\n",
              "23029   True          0.94\n",
              "46701   True          0.94\n",
              "37326   True          0.99\n",
              "44636  False          0.98\n",
              "29620   True          0.93\n",
              "1129    True          0.99\n",
              "10684   True          0.98\n",
              "43423  False          0.97\n",
              "33176   True          1.00\n",
              "21471   True          0.99\n",
              "33788   True          0.95\n",
              "50889   True          0.96\n",
              "23263   True          0.95\n",
              "30204   True          0.96\n",
              "46895   True          0.96\n",
              "29718   True          0.96\n",
              "43740   True          1.00\n",
              "29131   True          0.99\n",
              "2837    True          0.96\n",
              "51177   True          0.94\n",
              "25623   True          0.97\n",
              "47174   True          0.99\n",
              "45316   True          0.99\n",
              "10284   True          0.94\n",
              "2767    True          0.95\n",
              "13781   True          0.98\n",
              "25527   True          0.97\n",
              "12017   True          1.00\n",
              "1010   False          0.95\n",
              "17812   True          0.99\n",
              "55665   True          0.97\n",
              "55825   True          0.97\n",
              "13835   True          0.96\n",
              "5235    True          0.97\n",
              "54041   True          0.99\n",
              "57153   True          1.00\n",
              "15872   True          0.93\n",
              "19532   True          0.99\n",
              "59269   True          1.00\n",
              "33598   True          0.94\n",
              "9891   False          0.95\n",
              "49586   True          0.99\n",
              "10266   True          0.99"
            ]
          },
          "metadata": {
            "tags": []
          },
          "execution_count": 29
        }
      ]
    },
    {
      "cell_type": "code",
      "metadata": {
        "id": "CJ5UMDPoZ7MZ",
        "colab_type": "code",
        "outputId": "a5863959-f7e2-41ed-9db3-b9fbb7cbf77a",
        "colab": {
          "base_uri": "https://localhost:8080/",
          "height": 51
        }
      },
      "source": [
        "#How many recommendations are relevant?\n",
        "\n",
        "trips = 2000\n",
        "print(f'Basseline: {trips * 0.46} waterpump repairs in {trips} trips')\n",
        "\n",
        "relevant_recommendations = top2000['y_val'].sum()\n",
        "print(f'With model: Predict {relevant_recommendations} waterpump repairs in {trips} trips')"
      ],
      "execution_count": 0,
      "outputs": [
        {
          "output_type": "stream",
          "text": [
            "Basseline: 920.0 waterpump repairs in 2000 trips\n",
            "With model: Predict 1972 waterpump repairs in 2000 trips\n"
          ],
          "name": "stdout"
        }
      ]
    },
    {
      "cell_type": "code",
      "metadata": {
        "id": "toHg7vaLaC93",
        "colab_type": "code",
        "outputId": "54313f0c-3e20-4e56-d7cf-8283595b8b4b",
        "colab": {
          "base_uri": "https://localhost:8080/",
          "height": 34
        }
      },
      "source": [
        "precision_at_k_2000 = relevant_recommendations / trips\n",
        "print('Precision @ k=2000', precision_at_k_2000)"
      ],
      "execution_count": 0,
      "outputs": [
        {
          "output_type": "stream",
          "text": [
            "Precision @ k=2000 0.986\n"
          ],
          "name": "stdout"
        }
      ]
    },
    {
      "cell_type": "code",
      "metadata": {
        "id": "o7PZ70RnaMPS",
        "colab_type": "code",
        "outputId": "1a3d3906-c71a-4e71-caa0-b01011f090d2",
        "colab": {
          "base_uri": "https://localhost:8080/",
          "height": 419
        }
      },
      "source": [
        "results"
      ],
      "execution_count": 0,
      "outputs": [
        {
          "output_type": "execute_result",
          "data": {
            "text/html": [
              "<div>\n",
              "<style scoped>\n",
              "    .dataframe tbody tr th:only-of-type {\n",
              "        vertical-align: middle;\n",
              "    }\n",
              "\n",
              "    .dataframe tbody tr th {\n",
              "        vertical-align: top;\n",
              "    }\n",
              "\n",
              "    .dataframe thead th {\n",
              "        text-align: right;\n",
              "    }\n",
              "</style>\n",
              "<table border=\"1\" class=\"dataframe\">\n",
              "  <thead>\n",
              "    <tr style=\"text-align: right;\">\n",
              "      <th></th>\n",
              "      <th>y_val</th>\n",
              "      <th>y_pred_proba</th>\n",
              "    </tr>\n",
              "  </thead>\n",
              "  <tbody>\n",
              "    <tr>\n",
              "      <th>58046</th>\n",
              "      <td>True</td>\n",
              "      <td>1.00</td>\n",
              "    </tr>\n",
              "    <tr>\n",
              "      <th>41184</th>\n",
              "      <td>True</td>\n",
              "      <td>0.74</td>\n",
              "    </tr>\n",
              "    <tr>\n",
              "      <th>27587</th>\n",
              "      <td>False</td>\n",
              "      <td>0.10</td>\n",
              "    </tr>\n",
              "    <tr>\n",
              "      <th>53109</th>\n",
              "      <td>False</td>\n",
              "      <td>0.05</td>\n",
              "    </tr>\n",
              "    <tr>\n",
              "      <th>7245</th>\n",
              "      <td>True</td>\n",
              "      <td>0.55</td>\n",
              "    </tr>\n",
              "    <tr>\n",
              "      <th>...</th>\n",
              "      <td>...</td>\n",
              "      <td>...</td>\n",
              "    </tr>\n",
              "    <tr>\n",
              "      <th>18760</th>\n",
              "      <td>False</td>\n",
              "      <td>0.68</td>\n",
              "    </tr>\n",
              "    <tr>\n",
              "      <th>36059</th>\n",
              "      <td>True</td>\n",
              "      <td>0.88</td>\n",
              "    </tr>\n",
              "    <tr>\n",
              "      <th>4759</th>\n",
              "      <td>False</td>\n",
              "      <td>0.09</td>\n",
              "    </tr>\n",
              "    <tr>\n",
              "      <th>43621</th>\n",
              "      <td>False</td>\n",
              "      <td>0.59</td>\n",
              "    </tr>\n",
              "    <tr>\n",
              "      <th>45295</th>\n",
              "      <td>False</td>\n",
              "      <td>0.02</td>\n",
              "    </tr>\n",
              "  </tbody>\n",
              "</table>\n",
              "<p>14358 rows × 2 columns</p>\n",
              "</div>"
            ],
            "text/plain": [
              "       y_val  y_pred_proba\n",
              "58046   True          1.00\n",
              "41184   True          0.74\n",
              "27587  False          0.10\n",
              "53109  False          0.05\n",
              "7245    True          0.55\n",
              "...      ...           ...\n",
              "18760  False          0.68\n",
              "36059   True          0.88\n",
              "4759   False          0.09\n",
              "43621  False          0.59\n",
              "45295  False          0.02\n",
              "\n",
              "[14358 rows x 2 columns]"
            ]
          },
          "metadata": {
            "tags": []
          },
          "execution_count": 36
        }
      ]
    },
    {
      "cell_type": "code",
      "metadata": {
        "id": "29f8m92McDDo",
        "colab_type": "code",
        "outputId": "115ad947-6cde-4f14-b154-9e0ec067d62e",
        "colab": {
          "base_uri": "https://localhost:8080/",
          "height": 34
        }
      },
      "source": [
        "accuracy_2 = accuracy_score(y_val, y_pred)\n",
        "accuracy_2"
      ],
      "execution_count": 0,
      "outputs": [
        {
          "output_type": "execute_result",
          "data": {
            "text/plain": [
              "0.5046663880763338"
            ]
          },
          "metadata": {
            "tags": []
          },
          "execution_count": 39
        }
      ]
    },
    {
      "cell_type": "code",
      "metadata": {
        "id": "5IDc1LGrdACu",
        "colab_type": "code",
        "outputId": "828970fb-3e93-4eef-a783-ae2fa0af14ee",
        "colab": {
          "base_uri": "https://localhost:8080/",
          "height": 308
        }
      },
      "source": [
        "accuracy_2 = accuracy_score(y_val, y_pred_proba)"
      ],
      "execution_count": 0,
      "outputs": [
        {
          "output_type": "error",
          "ename": "ValueError",
          "evalue": "ignored",
          "traceback": [
            "\u001b[0;31m---------------------------------------------------------------------------\u001b[0m",
            "\u001b[0;31mValueError\u001b[0m                                Traceback (most recent call last)",
            "\u001b[0;32m<ipython-input-40-d943ec2691d8>\u001b[0m in \u001b[0;36m<module>\u001b[0;34m()\u001b[0m\n\u001b[0;32m----> 1\u001b[0;31m \u001b[0maccuracy_2\u001b[0m \u001b[0;34m=\u001b[0m \u001b[0maccuracy_score\u001b[0m\u001b[0;34m(\u001b[0m\u001b[0my_val\u001b[0m\u001b[0;34m,\u001b[0m \u001b[0my_pred_proba\u001b[0m\u001b[0;34m)\u001b[0m\u001b[0;34m\u001b[0m\u001b[0;34m\u001b[0m\u001b[0m\n\u001b[0m",
            "\u001b[0;32m/usr/local/lib/python3.6/dist-packages/sklearn/metrics/_classification.py\u001b[0m in \u001b[0;36maccuracy_score\u001b[0;34m(y_true, y_pred, normalize, sample_weight)\u001b[0m\n\u001b[1;32m    183\u001b[0m \u001b[0;34m\u001b[0m\u001b[0m\n\u001b[1;32m    184\u001b[0m     \u001b[0;31m# Compute accuracy for each possible representation\u001b[0m\u001b[0;34m\u001b[0m\u001b[0;34m\u001b[0m\u001b[0;34m\u001b[0m\u001b[0m\n\u001b[0;32m--> 185\u001b[0;31m     \u001b[0my_type\u001b[0m\u001b[0;34m,\u001b[0m \u001b[0my_true\u001b[0m\u001b[0;34m,\u001b[0m \u001b[0my_pred\u001b[0m \u001b[0;34m=\u001b[0m \u001b[0m_check_targets\u001b[0m\u001b[0;34m(\u001b[0m\u001b[0my_true\u001b[0m\u001b[0;34m,\u001b[0m \u001b[0my_pred\u001b[0m\u001b[0;34m)\u001b[0m\u001b[0;34m\u001b[0m\u001b[0;34m\u001b[0m\u001b[0m\n\u001b[0m\u001b[1;32m    186\u001b[0m     \u001b[0mcheck_consistent_length\u001b[0m\u001b[0;34m(\u001b[0m\u001b[0my_true\u001b[0m\u001b[0;34m,\u001b[0m \u001b[0my_pred\u001b[0m\u001b[0;34m,\u001b[0m \u001b[0msample_weight\u001b[0m\u001b[0;34m)\u001b[0m\u001b[0;34m\u001b[0m\u001b[0;34m\u001b[0m\u001b[0m\n\u001b[1;32m    187\u001b[0m     \u001b[0;32mif\u001b[0m \u001b[0my_type\u001b[0m\u001b[0;34m.\u001b[0m\u001b[0mstartswith\u001b[0m\u001b[0;34m(\u001b[0m\u001b[0;34m'multilabel'\u001b[0m\u001b[0;34m)\u001b[0m\u001b[0;34m:\u001b[0m\u001b[0;34m\u001b[0m\u001b[0;34m\u001b[0m\u001b[0m\n",
            "\u001b[0;32m/usr/local/lib/python3.6/dist-packages/sklearn/metrics/_classification.py\u001b[0m in \u001b[0;36m_check_targets\u001b[0;34m(y_true, y_pred)\u001b[0m\n\u001b[1;32m     88\u001b[0m     \u001b[0;32mif\u001b[0m \u001b[0mlen\u001b[0m\u001b[0;34m(\u001b[0m\u001b[0my_type\u001b[0m\u001b[0;34m)\u001b[0m \u001b[0;34m>\u001b[0m \u001b[0;36m1\u001b[0m\u001b[0;34m:\u001b[0m\u001b[0;34m\u001b[0m\u001b[0;34m\u001b[0m\u001b[0m\n\u001b[1;32m     89\u001b[0m         raise ValueError(\"Classification metrics can't handle a mix of {0} \"\n\u001b[0;32m---> 90\u001b[0;31m                          \"and {1} targets\".format(type_true, type_pred))\n\u001b[0m\u001b[1;32m     91\u001b[0m \u001b[0;34m\u001b[0m\u001b[0m\n\u001b[1;32m     92\u001b[0m     \u001b[0;31m# We can't have more than one value on y_type => The set is no more needed\u001b[0m\u001b[0;34m\u001b[0m\u001b[0;34m\u001b[0m\u001b[0;34m\u001b[0m\u001b[0m\n",
            "\u001b[0;31mValueError\u001b[0m: Classification metrics can't handle a mix of binary and continuous targets"
          ]
        }
      ]
    }
  ]
}